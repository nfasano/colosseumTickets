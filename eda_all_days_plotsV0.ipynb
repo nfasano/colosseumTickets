{
 "cells": [
  {
   "cell_type": "markdown",
   "metadata": {},
   "source": [
    "# Exploratory data analysis for all days ticket tracker\n",
    "# plotsV0 -- create heat map of ticket availability\n",
    "\n",
    "## Written by Nicholas Fasano\n",
    "## Created on: 04/20/2023"
   ]
  },
  {
   "cell_type": "code",
   "execution_count": 48,
   "metadata": {},
   "outputs": [],
   "source": [
    "# Load in python packages\n",
    "import numpy as np\n",
    "import pandas as pd\n",
    "\n",
    "from matplotlib import pyplot as plt\n",
    "import seaborn as sns\n",
    "\n",
    "import datetime\n",
    "import time\n",
    "\n",
    "\n",
    "# import OS module\n",
    "import os"
   ]
  },
  {
   "cell_type": "markdown",
   "metadata": {},
   "source": [
    "# Load in all pickle files as dataframes and concatenate them"
   ]
  },
  {
   "cell_type": "code",
   "execution_count": 49,
   "metadata": {},
   "outputs": [],
   "source": [
    "def convert_time(dt,delta):\n",
    "    # input: 1) dt (datetime.time object)\n",
    "    #        2) delta (int): minute incrment to round the time to (e.g. 1 rounds to nearest minute, 15 to nearest quarter hour)\n",
    "    # otput  1) dt (datetime.time object): rounded to the nearest delta minute\n",
    "    minute = dt.minute + dt.second/60\n",
    "    dt = dt.replace(second=0)\n",
    "    rounded_min = np.int(np.round(minute/delta,0)*delta)\n",
    "    # must return a minute value between 0 and 59 and an hour value between 0 and 23\n",
    "    if(rounded_min == 60):\n",
    "        dt = dt.replace(minute=0)\n",
    "        if(dt.hour == 23):\n",
    "            dt = dt.replace(minute=59)\n",
    "        else:\n",
    "            dt = dt.replace(hour=dt.hour+1)\n",
    "    else:\n",
    "        dt = dt.replace(minute=rounded_min)\n",
    "        \n",
    "    return dt"
   ]
  },
  {
   "cell_type": "markdown",
   "metadata": {},
   "source": [
    "# Load in all pickle files as dataframes and concatenate them"
   ]
  },
  {
   "cell_type": "code",
   "execution_count": 50,
   "metadata": {},
   "outputs": [
    {
     "data": {
      "text/html": [
       "<div>\n",
       "<style scoped>\n",
       "    .dataframe tbody tr th:only-of-type {\n",
       "        vertical-align: middle;\n",
       "    }\n",
       "\n",
       "    .dataframe tbody tr th {\n",
       "        vertical-align: top;\n",
       "    }\n",
       "\n",
       "    .dataframe thead tr th {\n",
       "        text-align: left;\n",
       "    }\n",
       "</style>\n",
       "<table border=\"1\" class=\"dataframe\">\n",
       "  <thead>\n",
       "    <tr>\n",
       "      <th>day</th>\n",
       "      <th colspan=\"10\" halign=\"left\">04/16/2023</th>\n",
       "      <th>...</th>\n",
       "      <th colspan=\"10\" halign=\"left\">06/14/2023</th>\n",
       "    </tr>\n",
       "    <tr>\n",
       "      <th>entryTime</th>\n",
       "      <th>08:00</th>\n",
       "      <th>08:05</th>\n",
       "      <th>08:10</th>\n",
       "      <th>08:15</th>\n",
       "      <th>08:20</th>\n",
       "      <th>08:25</th>\n",
       "      <th>08:30</th>\n",
       "      <th>08:35</th>\n",
       "      <th>08:40</th>\n",
       "      <th>08:45</th>\n",
       "      <th>...</th>\n",
       "      <th>22:15</th>\n",
       "      <th>22:20</th>\n",
       "      <th>22:25</th>\n",
       "      <th>22:30</th>\n",
       "      <th>22:35</th>\n",
       "      <th>22:40</th>\n",
       "      <th>22:45</th>\n",
       "      <th>22:50</th>\n",
       "      <th>22:55</th>\n",
       "      <th>Color</th>\n",
       "    </tr>\n",
       "  </thead>\n",
       "  <tbody>\n",
       "    <tr>\n",
       "      <th>05/05/2023_23:08:43</th>\n",
       "      <td>NaN</td>\n",
       "      <td>NaN</td>\n",
       "      <td>NaN</td>\n",
       "      <td>NaN</td>\n",
       "      <td>NaN</td>\n",
       "      <td>NaN</td>\n",
       "      <td>NaN</td>\n",
       "      <td>NaN</td>\n",
       "      <td>NaN</td>\n",
       "      <td>NaN</td>\n",
       "      <td>...</td>\n",
       "      <td>NaN</td>\n",
       "      <td>NaN</td>\n",
       "      <td>NaN</td>\n",
       "      <td>NaN</td>\n",
       "      <td>NaN</td>\n",
       "      <td>NaN</td>\n",
       "      <td>NaN</td>\n",
       "      <td>NaN</td>\n",
       "      <td>NaN</td>\n",
       "      <td>NaN</td>\n",
       "    </tr>\n",
       "    <tr>\n",
       "      <th>05/05/2023_23:15:05_FEUA_</th>\n",
       "      <td>NaN</td>\n",
       "      <td>NaN</td>\n",
       "      <td>NaN</td>\n",
       "      <td>NaN</td>\n",
       "      <td>NaN</td>\n",
       "      <td>NaN</td>\n",
       "      <td>NaN</td>\n",
       "      <td>NaN</td>\n",
       "      <td>NaN</td>\n",
       "      <td>NaN</td>\n",
       "      <td>...</td>\n",
       "      <td>NaN</td>\n",
       "      <td>NaN</td>\n",
       "      <td>NaN</td>\n",
       "      <td>NaN</td>\n",
       "      <td>NaN</td>\n",
       "      <td>NaN</td>\n",
       "      <td>NaN</td>\n",
       "      <td>NaN</td>\n",
       "      <td>NaN</td>\n",
       "      <td>grey</td>\n",
       "    </tr>\n",
       "    <tr>\n",
       "      <th>05/05/2023_23:15:34_FEA_</th>\n",
       "      <td>NaN</td>\n",
       "      <td>NaN</td>\n",
       "      <td>NaN</td>\n",
       "      <td>NaN</td>\n",
       "      <td>NaN</td>\n",
       "      <td>NaN</td>\n",
       "      <td>NaN</td>\n",
       "      <td>NaN</td>\n",
       "      <td>NaN</td>\n",
       "      <td>NaN</td>\n",
       "      <td>...</td>\n",
       "      <td>NaN</td>\n",
       "      <td>NaN</td>\n",
       "      <td>NaN</td>\n",
       "      <td>NaN</td>\n",
       "      <td>NaN</td>\n",
       "      <td>NaN</td>\n",
       "      <td>NaN</td>\n",
       "      <td>NaN</td>\n",
       "      <td>NaN</td>\n",
       "      <td>grey</td>\n",
       "    </tr>\n",
       "    <tr>\n",
       "      <th>05/05/2023_23:15:53_FEUAG_</th>\n",
       "      <td>NaN</td>\n",
       "      <td>NaN</td>\n",
       "      <td>NaN</td>\n",
       "      <td>NaN</td>\n",
       "      <td>NaN</td>\n",
       "      <td>NaN</td>\n",
       "      <td>NaN</td>\n",
       "      <td>NaN</td>\n",
       "      <td>NaN</td>\n",
       "      <td>NaN</td>\n",
       "      <td>...</td>\n",
       "      <td>NaN</td>\n",
       "      <td>NaN</td>\n",
       "      <td>NaN</td>\n",
       "      <td>NaN</td>\n",
       "      <td>NaN</td>\n",
       "      <td>NaN</td>\n",
       "      <td>NaN</td>\n",
       "      <td>NaN</td>\n",
       "      <td>NaN</td>\n",
       "      <td>grey</td>\n",
       "    </tr>\n",
       "    <tr>\n",
       "      <th>05/05/2023_23:16:09_RE_</th>\n",
       "      <td>NaN</td>\n",
       "      <td>NaN</td>\n",
       "      <td>NaN</td>\n",
       "      <td>NaN</td>\n",
       "      <td>NaN</td>\n",
       "      <td>NaN</td>\n",
       "      <td>NaN</td>\n",
       "      <td>NaN</td>\n",
       "      <td>NaN</td>\n",
       "      <td>NaN</td>\n",
       "      <td>...</td>\n",
       "      <td>NaN</td>\n",
       "      <td>NaN</td>\n",
       "      <td>NaN</td>\n",
       "      <td>NaN</td>\n",
       "      <td>NaN</td>\n",
       "      <td>NaN</td>\n",
       "      <td>NaN</td>\n",
       "      <td>NaN</td>\n",
       "      <td>NaN</td>\n",
       "      <td>grey</td>\n",
       "    </tr>\n",
       "  </tbody>\n",
       "</table>\n",
       "<p>5 rows × 10860 columns</p>\n",
       "</div>"
      ],
      "text/plain": [
       "day                        04/16/2023                                      \\\n",
       "entryTime                       08:00 08:05 08:10 08:15 08:20 08:25 08:30   \n",
       "05/05/2023_23:08:43               NaN   NaN   NaN   NaN   NaN   NaN   NaN   \n",
       "05/05/2023_23:15:05_FEUA_         NaN   NaN   NaN   NaN   NaN   NaN   NaN   \n",
       "05/05/2023_23:15:34_FEA_          NaN   NaN   NaN   NaN   NaN   NaN   NaN   \n",
       "05/05/2023_23:15:53_FEUAG_        NaN   NaN   NaN   NaN   NaN   NaN   NaN   \n",
       "05/05/2023_23:16:09_RE_           NaN   NaN   NaN   NaN   NaN   NaN   NaN   \n",
       "\n",
       "day                                           ... 06/14/2023              \\\n",
       "entryTime                  08:35 08:40 08:45  ...      22:15 22:20 22:25   \n",
       "05/05/2023_23:08:43          NaN   NaN   NaN  ...        NaN   NaN   NaN   \n",
       "05/05/2023_23:15:05_FEUA_    NaN   NaN   NaN  ...        NaN   NaN   NaN   \n",
       "05/05/2023_23:15:34_FEA_     NaN   NaN   NaN  ...        NaN   NaN   NaN   \n",
       "05/05/2023_23:15:53_FEUAG_   NaN   NaN   NaN  ...        NaN   NaN   NaN   \n",
       "05/05/2023_23:16:09_RE_      NaN   NaN   NaN  ...        NaN   NaN   NaN   \n",
       "\n",
       "day                                                                   \n",
       "entryTime                  22:30 22:35 22:40 22:45 22:50 22:55 Color  \n",
       "05/05/2023_23:08:43          NaN   NaN   NaN   NaN   NaN   NaN   NaN  \n",
       "05/05/2023_23:15:05_FEUA_    NaN   NaN   NaN   NaN   NaN   NaN  grey  \n",
       "05/05/2023_23:15:34_FEA_     NaN   NaN   NaN   NaN   NaN   NaN  grey  \n",
       "05/05/2023_23:15:53_FEUAG_   NaN   NaN   NaN   NaN   NaN   NaN  grey  \n",
       "05/05/2023_23:16:09_RE_      NaN   NaN   NaN   NaN   NaN   NaN  grey  \n",
       "\n",
       "[5 rows x 10860 columns]"
      ]
     },
     "execution_count": 50,
     "metadata": {},
     "output_type": "execute_result"
    }
   ],
   "source": [
    "# execution time of this cell: ~30seconds, could be reduced by trimming the individual pickle files\n",
    "Dir = 'C:\\\\Users\\\\Nick\\\\Documents\\\\DataScience\\\\Webscrapers\\\\colosseum\\\\pickle_files\\\\'\n",
    "\n",
    "# load in .pkl files, filtering all files that dont have _all_days substring.\n",
    "file_list = [f for f in os.listdir(Dir) if os.path.isfile(Dir+'/'+f) and '_all_days' in f and '.pkl' in f] \n",
    "\n",
    "df = []\n",
    "for j in range(len(file_list)):\n",
    "    df.append(pd.read_pickle(Dir + file_list[j]))\n",
    "df = pd.concat(df) \n",
    "\n",
    "df.head()\n",
    "\n"
   ]
  },
  {
   "cell_type": "markdown",
   "metadata": {},
   "source": [
    "# Data preprocessing to create heatmaps"
   ]
  },
  {
   "cell_type": "markdown",
   "metadata": {},
   "source": [
    "## 1) Remove days befire 04/21/2023 (that was the day I started to webscrape the data)"
   ]
  },
  {
   "cell_type": "code",
   "execution_count": 51,
   "metadata": {},
   "outputs": [],
   "source": [
    "col_remove = []\n",
    "for j in range(len(df.columns)):\n",
    "    a = datetime.datetime.strptime(df.columns[j][0],'%m/%d/%Y').date()\n",
    "    if(a < datetime.date(2023, 4, 21)):\n",
    "        col_remove.append(df.columns[j])\n",
    "df = df.drop(col_remove,axis=1)\n"
   ]
  },
  {
   "cell_type": "markdown",
   "metadata": {},
   "source": [
    "## 2) Create lists of different possible indices names"
   ]
  },
  {
   "cell_type": "code",
   "execution_count": 52,
   "metadata": {},
   "outputs": [],
   "source": [
    "# query date, query time, and ticket type\n",
    "orig_index = df.index \n",
    "\n",
    "# query date only\n",
    "date_index = [datetime.datetime.strptime(jdate[0:jdate.find('_')],'%m/%d/%Y').date() for jdate in df.index]\n",
    "\n",
    "# query time only\n",
    "time_index = [datetime.time(int(jtime[jtime.find('_')+1:jtime.find('_')+3]),int(jtime[jtime.find('_')+4:jtime.find('_')+6]),int(jtime[jtime.find('_')+7:jtime.find('_')+9])) for jtime in df.index]\n",
    "\n",
    "# ticket type only\n",
    "tick_index = [jtick[jtick.find('_')+10:-1] for jtick in df.index] "
   ]
  },
  {
   "cell_type": "markdown",
   "metadata": {},
   "source": [
    "## 3) Find ticket avialbility num_days after query date "
   ]
  },
  {
   "cell_type": "code",
   "execution_count": 53,
   "metadata": {},
   "outputs": [],
   "source": [
    "num_days = 7\n",
    "\n",
    "df2 = []\n",
    "search_dates = list(set(date_index))\n",
    "for j in range(len(search_dates)):\n",
    "    target_date = search_dates[j] + datetime.timedelta(days=num_days)\n",
    "    col_keep = [jCol for jCol in df.columns if datetime.datetime.strptime(jCol[0],'%m/%d/%Y').date() == target_date]\n",
    "    df2.append(df[col_keep].copy())\n",
    "    df2[j].columns = df2[j].columns.get_level_values(1)\n",
    "    df2[j]['search_date'] = date_index\n",
    "    df2[j]['query_date'] = [target_date]*len(date_index)\n",
    "    df2[j] = df2[j].query('search_date == @search_dates[@j]')\n",
    "    \n",
    "df2 = pd.concat(df2) \n",
    "\n",
    "\n"
   ]
  },
  {
   "cell_type": "markdown",
   "metadata": {},
   "source": [
    "## 4) Select rows based on ticket type and ticket availability, then create times index"
   ]
  },
  {
   "cell_type": "code",
   "execution_count": 54,
   "metadata": {},
   "outputs": [],
   "source": [
    "\n",
    "df2['ticket_type'] = [ht[ht.find('_')+10:-1] for ht in df2.index]\n",
    "df2 = df2.query('ticket_type == \"FEA\" or ticket_type == \"FEUA\" or ticket_type == \"FEUAG\"')\n",
    "df2 = df2.drop(['ticket_type','search_date','query_date'],axis=1)\n",
    "\n",
    "# retain only rows where day was green\n",
    "df2 = df2[df2['Color'] == 'green'].drop(['Color'],axis=1)\n",
    "\n",
    "# retain only times slots where at least one ticket was available\n",
    "df2 = df2[df2.columns[df2.sum() > 0]]\n",
    "\n",
    "# convert sparse dataframe to dense dataframe\n",
    "df2 = df2.fillna(0).sparse.to_dense()\n",
    "\n",
    "\n",
    "# add time and ticket type information from index\n",
    "df2['times'] = [jind[jind.find(':')-2:jind.find(':')+6] for jind in df2.index]\n",
    "df2['times'] = pd.to_datetime(df2['times']).dt.time\n",
    "df2 = df2.set_index('times')"
   ]
  },
  {
   "cell_type": "markdown",
   "metadata": {},
   "source": [
    "## 5) group nearby query times (by max) and ticket entry times (by sum)"
   ]
  },
  {
   "cell_type": "code",
   "execution_count": 55,
   "metadata": {},
   "outputs": [],
   "source": [
    "# create copy of df\n",
    "df_final = df2.copy()\n",
    "\n",
    "# time window to group query times and ticket times\n",
    "delta_min_ticket = 30 # minute\n",
    "delta_min_query = 30 # minute\n",
    "\n",
    "\n",
    "# ===========================================\n",
    "\n",
    "# group ticket entry times by summing ticket counts within 30 minute preiods\n",
    "timeLst = [datetime.time(hour=int(jtime[0:jtime.find(':')]),minute=int(jtime[3:])) for jtime in df_final.columns]\n",
    "timeLst = [convert_time(jtime,delta_min_ticket) for jtime in timeLst]\n",
    "df_final.columns = timeLst\n",
    "df_final = df_final.groupby(df_final.columns,axis=1).sum()\n",
    "\n",
    "# group query times by taking the max ticket count over a 30 minute period\n",
    "df_final['times2'] = [convert_time(jtimes,delta_min_query) for jtimes in df_final.index]\n",
    "df_final = df_final.loc[df_final.sum(axis=1) > 0]\n",
    "df_final = df_final.groupby('times2').max().copy()\n",
    "\n",
    "# ===========================================\n",
    "\n",
    "# zero fill query times according to grouped interval\n",
    "timeLst = [str(i*datetime.timedelta(minutes=delta_min_query)) for i in range(0*60//delta_min_query,23*60//delta_min_query)]\n",
    "timeLst = ['0' + time[:-3] if ':' in time[0:2] else time[:-3] for time in timeLst ]\n",
    "timeLst = [datetime.time(hour=int(jtime[0:jtime.find(':')]),minute=int(jtime[3:])) for jtime in timeLst]\n",
    "df_final = df_final.join(pd.DataFrame(index=timeLst),on=df_final.index,how='outer',sort=True).set_index('key_0')\n",
    "df_final.index.rename('times2',inplace=True)\n",
    "\n",
    "# zero fill ticket entry times according to grouped interval\n",
    "timeLst = [str(i*datetime.timedelta(minutes=delta_min_ticket)) for i in range(9*60//delta_min_ticket,18*60//delta_min_ticket)]\n",
    "timeLst = ['0' + time[:-3] if ':' in time[0:2] else time[:-3] for time in timeLst ]\n",
    "timeLst = [datetime.time(hour=int(jtime[0:jtime.find(':')]),minute=int(jtime[3:])) for jtime in timeLst]\n",
    "for jtime in timeLst:\n",
    "    if(jtime not in list(df_final.columns)):\n",
    "        df_final[jtime] = np.nan\n",
    "        \n",
    "# sort query in ascending time order\n",
    "df_final = df_final.reindex(sorted(df_final.columns), axis=1)\n",
    "\n",
    "\n",
    "# convert index from local time ([EST]) to Rome time ([CET])\n",
    "df_final.index = [datetime.datetime(1,1,1,jtime.hour,jtime.minute,jtime.second) + datetime.timedelta(hours=6) for jtime in df_final.index]\n",
    "df_final.index = [jtime.time() for jtime in df_final.index]"
   ]
  },
  {
   "cell_type": "markdown",
   "metadata": {},
   "source": [
    "# Finally create heatmap"
   ]
  },
  {
   "cell_type": "code",
   "execution_count": 56,
   "metadata": {
    "scrolled": false
   },
   "outputs": [
    {
     "data": {
      "image/png": "[encoded data removed]",
      "text/plain": [
       "<Figure size 864x720 with 1 Axes>"
      ]
     },
     "metadata": {
      "needs_background": "light"
     },
     "output_type": "display_data"
    }
   ],
   "source": [
    "fig, ax = plt.subplots(figsize=(12,10))\n",
    "sns.heatmap(data=df_final.iloc[0:31].replace(0,np.nan),vmin=0,vmax=80,cmap=sns.color_palette(\"gray_r\", as_cmap=True),\n",
    "            cbar=False,annot=True,linewidth=1,linecolor=[0.9,0.9,0.9],fmt='g',annot_kws={\"size\":13})\n",
    "\n",
    "temp = ax.get_yticklabels()\n",
    "temp = [jtemp.get_text()[0:5] for jtemp in temp]\n",
    "temp[1::2] = ['']*len(temp[1::2])\n",
    "ax.set_yticklabels(temp,fontdict={'fontsize':14});\n",
    "\n",
    "temp = ax.get_xticklabels()\n",
    "temp = [jtemp.get_text()[0:5] for jtemp in temp]\n",
    "ax.set_xticklabels(temp,fontdict={'fontsize':14});\n",
    "\n",
    "ax.set_xlabel(\"Ticket Time [CET]\",fontdict={'fontsize':14},labelpad=10)\n",
    "ax.set_ylabel(\"Query Time [CET]\",fontdict={'fontsize':14});\n",
    "ax.set_title(\"Full Experience Ticket Availability (\" + str(nDays) + \" days)\",fontdict={'fontsize':16});\n",
    "\n",
    "# plt.savefig('AllDays_PlotsV0\\RegularExperience_'+str(nDays)+'days.png', dpi=300)\n",
    "# ax.set_ylim(20,0)"
   ]
  },
  {
   "cell_type": "code",
   "execution_count": null,
   "metadata": {},
   "outputs": [],
   "source": []
  }
 ],
 "metadata": {
  "kernelspec": {
   "display_name": "Python 3",
   "language": "python",
   "name": "python3"
  },
  "language_info": {
   "codemirror_mode": {
    "name": "ipython",
    "version": 3
   },
   "file_extension": ".py",
   "mimetype": "text/x-python",
   "name": "python",
   "nbconvert_exporter": "python",
   "pygments_lexer": "ipython3",
   "version": "3.7.9"
  }
 },
 "nbformat": 4,
 "nbformat_minor": 4
}
